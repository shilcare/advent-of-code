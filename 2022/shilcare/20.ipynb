{
 "cells": [
  {
   "cell_type": "code",
   "execution_count": 24,
   "metadata": {},
   "outputs": [
    {
     "name": "stdout",
     "output_type": "stream",
     "text": [
      "2275\n"
     ]
    }
   ],
   "source": [
    "# arr = [1, 2, -3, 3, -2, 0, 4]\n",
    "with open(\"20.input\", \"r\") as f:\n",
    "    arr = [int(i) for i in f.readlines()]\n",
    "arr = [*enumerate(arr)]\n",
    "n = len(arr)\n",
    "for i in range(n):\n",
    "    currIdx = next(idx for idx, t in enumerate(arr) if t[0] == i)\n",
    "    v = arr[currIdx][1]\n",
    "    newPos = (currIdx + v) % (n - 1)\n",
    "    # arr = arr[:currIdx] + arr[currIdx + 1 :]\n",
    "    # if newPos == 0:\n",
    "    #     newPos = n - 1\n",
    "    # if newPos == n - 1:\n",
    "    #     newPos = 0\n",
    "    # arr = arr[:newPos] + [(i, v)] + arr[newPos:]\n",
    "    arr.insert(newPos, arr.pop(currIdx))\n",
    "\n",
    "zeroIdx = next(idx for idx, t in enumerate(arr) if t[1] == 0)\n",
    "result = sum(arr[(zeroIdx + i) % n][1] for i in [1000, 2000, 3000])\n",
    "print(result)\n"
   ]
  },
  {
   "cell_type": "code",
   "execution_count": 25,
   "metadata": {},
   "outputs": [
    {
     "name": "stdout",
     "output_type": "stream",
     "text": [
      "4090409331120\n"
     ]
    }
   ],
   "source": [
    "decryptionKey = 811589153\n",
    "mixingRounds = 10\n",
    "\n",
    "with open(\"20.input\", \"r\") as f:\n",
    "    arr = [int(i) * decryptionKey for i in f.readlines()]\n",
    "# arr = [*map(lambda x: x * decryptionKey, [1, 2, -3, 3, -2, 0, 4])]\n",
    "\n",
    "arr = [*enumerate(arr)]\n",
    "n = len(arr)\n",
    "\n",
    "# move each number forward or backward in the file a number of positions equal to the value of the number being moved.\n",
    "# The list is circular, so **moving a number off one end of the list wraps back around to the other end** as if the\n",
    "# ends were connected.\n",
    "# But actully, the ends wraping does not matter in this problem. As we only care about the order after zero.\n",
    "for _ in range(mixingRounds):\n",
    "    for i in range(n):\n",
    "        currIdx = next(idx for idx, t in enumerate(arr) if t[0] == i)\n",
    "        v = arr[currIdx][1]\n",
    "        # it takes n - 1 moves to go back to the initial position\n",
    "        newPos = (currIdx + v) % (n - 1)\n",
    "        # arr = arr[:currIdx] + arr[currIdx + 1 :]\n",
    "        # # A = 0,-1,2,1\n",
    "        # # -1 moves to between 1 and 0. A become 0,2,1,-1\n",
    "        # # 2 moves to between -1 and 0. A become 2,0,1,-1\n",
    "        # if newPos == 0:\n",
    "        #     newPos = n - 1\n",
    "        # if newPos == n - 1:\n",
    "        #     newPos = 0\n",
    "        # arr = arr[:newPos] + [(i, v)] + arr[newPos:]\n",
    "        # but acutally, the\n",
    "        arr.insert(newPos, arr.pop(currIdx))\n",
    "\n",
    "zeroIdx = next(idx for idx, t in enumerate(arr) if t[1] == 0)\n",
    "result = sum(arr[(zeroIdx + i) % n][1] for i in [1000, 2000, 3000])\n",
    "print(result)\n"
   ]
  }
 ],
 "metadata": {
  "kernelspec": {
   "display_name": "base",
   "language": "python",
   "name": "python3"
  },
  "language_info": {
   "codemirror_mode": {
    "name": "ipython",
    "version": 3
   },
   "file_extension": ".py",
   "mimetype": "text/x-python",
   "name": "python",
   "nbconvert_exporter": "python",
   "pygments_lexer": "ipython3",
   "version": "3.9.7 (default, Sep 16 2021, 08:50:36) \n[Clang 10.0.0 ]"
  },
  "orig_nbformat": 4,
  "vscode": {
   "interpreter": {
    "hash": "3979039c0953ef28e015c3ced4776cde123c2af84f71101b6fdde7dc0b176a4b"
   }
  }
 },
 "nbformat": 4,
 "nbformat_minor": 2
}
