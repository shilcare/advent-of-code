{
 "cells": [
  {
   "cell_type": "code",
   "execution_count": 3,
   "metadata": {},
   "outputs": [
    {
     "name": "stdout",
     "output_type": "stream",
     "text": [
      "5710\n"
     ]
    }
   ],
   "source": [
    "step = {\n",
    "    \"R\": (1, 0),\n",
    "    \"L\": (-1, 0),\n",
    "    \"U\": (0, 1),\n",
    "    \"D\": (0, -1),\n",
    "}\n",
    "\n",
    "\n",
    "def headMove(pos, direction):\n",
    "    x, y = step[direction]\n",
    "    return (pos[0] + x, pos[1] + y)\n",
    "\n",
    "\n",
    "def tailMove(pos, headPos):\n",
    "    if pos == headPos:  # overlapping\n",
    "        return pos\n",
    "    if pos[0] == headPos[0]:  # vertical\n",
    "        offset = headPos[1] - pos[1]\n",
    "        if offset == 1 or offset == -1:\n",
    "            return pos\n",
    "        return (pos[0], pos[1] + (1 if offset == 2 else -1))\n",
    "    if pos[1] == headPos[1]:  # horizontal\n",
    "        offset = headPos[0] - pos[0]\n",
    "        if offset == 1 or offset == -1:\n",
    "            return pos\n",
    "        return (pos[0] + (1 if offset == 2 else -1), pos[1])\n",
    "\n",
    "    offsetX = headPos[0] - pos[0]\n",
    "    offsetY = headPos[1] - pos[1]\n",
    "    if abs(offsetX) == 2:\n",
    "        return (\n",
    "            pos[0] + (1 if offsetX > 0 else -1),\n",
    "            pos[1] + (1 if offsetY > 0 else -1),\n",
    "        )\n",
    "    if abs(offsetY) == 2:\n",
    "        return (\n",
    "            pos[0] + (1 if offsetX > 0 else -1),\n",
    "            pos[1] + (1 if offsetY > 0 else -1),\n",
    "        )\n",
    "\n",
    "    return pos  # abs(pos[0] - headPos[0]) == 1 and abs(pos[1] - headPos[1]) == 1, diagonally adjacent\n",
    "\n",
    "\n",
    "with open(\"09.input\", \"r\") as f:\n",
    "    headPos = tailPos = (0, 0)\n",
    "    visited = set()\n",
    "    for line in f:\n",
    "        direction, moves = line.split()\n",
    "        moves = int(moves)\n",
    "        for _ in range(moves):\n",
    "            headPos = headMove(headPos, direction)\n",
    "            tailPos = tailMove(tailPos, headPos)\n",
    "            visited.add(tailPos)\n",
    "    print(len(visited))\n"
   ]
  },
  {
   "cell_type": "code",
   "execution_count": 4,
   "metadata": {},
   "outputs": [
    {
     "name": "stdout",
     "output_type": "stream",
     "text": [
      "2259\n"
     ]
    }
   ],
   "source": [
    "step = {\n",
    "    \"R\": (1, 0),\n",
    "    \"L\": (-1, 0),\n",
    "    \"U\": (0, 1),\n",
    "    \"D\": (0, -1),\n",
    "}\n",
    "\n",
    "\n",
    "def headMove(pos, direction):\n",
    "    x, y = step[direction]\n",
    "    return (pos[0] + x, pos[1] + y)\n",
    "\n",
    "\n",
    "def knotMove(pos, headPos):\n",
    "    \"\"\" \n",
    "    Next knot position\n",
    "\n",
    "    Args:\n",
    "        pos: current knot position\n",
    "        headPos: knot position in the front\n",
    "    Returns:\n",
    "        next knot position\n",
    "    \"\"\"\n",
    "    if pos == headPos:  # overlapping\n",
    "        return pos\n",
    "    if pos[0] == headPos[0]:  # vertical\n",
    "        offset = headPos[1] - pos[1]\n",
    "        if offset == 1 or offset == -1:\n",
    "            return pos\n",
    "        return (pos[0], pos[1] + (1 if offset == 2 else -1))\n",
    "    if pos[1] == headPos[1]:  # horizontal\n",
    "        offset = headPos[0] - pos[0]\n",
    "        if offset == 1 or offset == -1:\n",
    "            return pos\n",
    "        return (pos[0] + (1 if offset == 2 else -1), pos[1])\n",
    "\n",
    "    offsetX = headPos[0] - pos[0]\n",
    "    offsetY = headPos[1] - pos[1]\n",
    "    if abs(offsetX) == 2:\n",
    "        return (\n",
    "            pos[0] + (1 if offsetX > 0 else -1),\n",
    "            pos[1] + (1 if offsetY > 0 else -1),\n",
    "        )\n",
    "    if abs(offsetY) == 2:\n",
    "        return (\n",
    "            pos[0] + (1 if offsetX > 0 else -1),\n",
    "            pos[1] + (1 if offsetY > 0 else -1),\n",
    "        )\n",
    "\n",
    "    return pos  # abs(pos[0] - headPos[0]) == 1 and abs(pos[1] - headPos[1]) == 1, diagonally adjacent\n",
    "\n",
    "\n",
    "with open(\"09.input\", \"r\") as f:\n",
    "    numKnots = 10\n",
    "    knotPos = [(0, 0)] * numKnots\n",
    "    visited = set()\n",
    "    for line in f:\n",
    "        direction, moves = line.split()\n",
    "        moves = int(moves)\n",
    "        for _ in range(moves):\n",
    "            knotPos[0] = headMove(knotPos[0], direction)\n",
    "            for i in range(1, numKnots):\n",
    "                knotPos[i] = knotMove(knotPos[i], knotPos[i - 1])\n",
    "            visited.add(knotPos[-1])\n",
    "    print(len(visited))\n"
   ]
  }
 ],
 "metadata": {
  "kernelspec": {
   "display_name": "base",
   "language": "python",
   "name": "python3"
  },
  "language_info": {
   "codemirror_mode": {
    "name": "ipython",
    "version": 3
   },
   "file_extension": ".py",
   "mimetype": "text/x-python",
   "name": "python",
   "nbconvert_exporter": "python",
   "pygments_lexer": "ipython3",
   "version": "3.9.7"
  },
  "orig_nbformat": 4,
  "vscode": {
   "interpreter": {
    "hash": "3979039c0953ef28e015c3ced4776cde123c2af84f71101b6fdde7dc0b176a4b"
   }
  }
 },
 "nbformat": 4,
 "nbformat_minor": 2
}
