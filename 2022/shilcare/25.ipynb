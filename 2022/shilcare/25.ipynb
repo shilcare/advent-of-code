{
 "cells": [
  {
   "cell_type": "code",
   "execution_count": 6,
   "metadata": {},
   "outputs": [
    {
     "name": "stdout",
     "output_type": "stream",
     "text": [
      "2---0-1-2=0=22=2-011\n"
     ]
    }
   ],
   "source": [
    "SNAFUDigits = \"210-=\"\n",
    "digitMap = {d: 2 - i for i, d in enumerate(SNAFUDigits)}\n",
    "\n",
    "\n",
    "def convertSNAFUToDecimal(snafu):\n",
    "    \"\"\" Convert SNAFU(Special Numeral-Analogue Fuel Units) to decimal \"\"\"\n",
    "    result = 0\n",
    "    for digit in snafu:\n",
    "        result = result * 5 + digitMap[digit]\n",
    "    return result\n",
    "\n",
    "\n",
    "def convertDecimalToSNAFU(decimal):\n",
    "    \"\"\" Convert decimal to SNAFU(Special Numeral-Analogue Fuel Units) \"\"\"\n",
    "    digits = []\n",
    "    carry = 0\n",
    "    while decimal > 0:\n",
    "        q, r = divmod(decimal, 5)\n",
    "        r += carry\n",
    "        carry = 0\n",
    "        # when r >= 3, we need to carry 1 to the next digit, and subtract 5 from r\n",
    "        if r > 2:\n",
    "            carry = 1\n",
    "            r -= 5\n",
    "        # now r is in 2, 1, 0, -1, -2\n",
    "        digits.append(SNAFUDigits[2 - r])\n",
    "        decimal = q\n",
    "\n",
    "    if carry > 0:\n",
    "        digits.append(SNAFUDigits[2 - carry])\n",
    "    return \"\".join(reversed(digits))\n",
    "\n",
    "\n",
    "with open(\"25.input\", \"r\") as f:\n",
    "    numbers = [convertSNAFUToDecimal(line.strip()) for line in f]\n",
    "\n",
    "decimalSum = sum(numbers)\n",
    "print(convertDecimalToSNAFU(decimalSum))\n",
    "\n",
    "assert convertDecimalToSNAFU(7) == \"12\"\n",
    "assert convertDecimalToSNAFU(8) == \"2=\", f\"got {convertDecimalToSNAFU(8)}\"\n",
    "assert convertDecimalToSNAFU(12345) == \"1-0---0\"\n",
    "assert convertDecimalToSNAFU(314159265) == \"1121-1110-1=0\"\n"
   ]
  }
 ],
 "metadata": {
  "kernelspec": {
   "display_name": "base",
   "language": "python",
   "name": "python3"
  },
  "language_info": {
   "codemirror_mode": {
    "name": "ipython",
    "version": 3
   },
   "file_extension": ".py",
   "mimetype": "text/x-python",
   "name": "python",
   "nbconvert_exporter": "python",
   "pygments_lexer": "ipython3",
   "version": "3.9.7"
  },
  "orig_nbformat": 4,
  "vscode": {
   "interpreter": {
    "hash": "3979039c0953ef28e015c3ced4776cde123c2af84f71101b6fdde7dc0b176a4b"
   }
  }
 },
 "nbformat": 4,
 "nbformat_minor": 2
}
