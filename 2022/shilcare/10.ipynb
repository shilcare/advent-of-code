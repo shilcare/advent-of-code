{
 "cells": [
  {
   "cell_type": "code",
   "execution_count": 2,
   "metadata": {},
   "outputs": [
    {
     "name": "stdout",
     "output_type": "stream",
     "text": [
      "{20: 340, 60: 1020, 100: 1700, 140: 2940, 180: 3060, 220: 5280}\n",
      "14340\n"
     ]
    }
   ],
   "source": [
    "# Sum of signal strength during the 20th, 60th, 100th, 140th, 180th, and 220th cycles\n",
    "with open(\"10.input\") as f:\n",
    "    x = 1\n",
    "    tick = 0  # end of cycle\n",
    "    cycles = set([20, 60, 100, 140, 180, 220])\n",
    "    signalStrength = {}\n",
    "    for line in f:\n",
    "        instruction, *arg = line.split()\n",
    "        if instruction == \"noop\":\n",
    "            tick += 1\n",
    "            if tick in cycles:\n",
    "                signalStrength[tick] = x * tick\n",
    "        elif instruction == \"addx\":\n",
    "            v = int(arg[0])\n",
    "            tick += 1\n",
    "            if tick in cycles:\n",
    "                signalStrength[tick] = x * tick\n",
    "            tick += 1\n",
    "            if tick in cycles:\n",
    "                signalStrength[tick] = x * tick\n",
    "            x += v\n",
    "    print(signalStrength)\n",
    "    print(sum(signalStrength.values()))\n"
   ]
  },
  {
   "cell_type": "code",
   "execution_count": 6,
   "metadata": {},
   "outputs": [
    {
     "name": "stdout",
     "output_type": "stream",
     "text": [
      "###...##..###....##..##..###..#..#.###..\n",
      "#..#.#..#.#..#....#.#..#.#..#.#..#.#..#.\n",
      "#..#.#..#.#..#....#.#....###..####.#..#.\n",
      "###..####.###.....#.#....#..#.#..#.###..\n",
      "#....#..#.#....#..#.#..#.#..#.#..#.#....\n",
      "#....#..#.#.....##...##..###..#..#.#....\n"
     ]
    }
   ],
   "source": [
    "width, height = 40, 6\n",
    "pixels = [[\".\"] * width for _ in range(height)]\n",
    "\n",
    "with open(\"10.input\") as f:\n",
    "    x = 1\n",
    "    tick = 0  # end of cycle\n",
    "    for line in f:\n",
    "        instruction, *arg = line.split()\n",
    "        if instruction == \"noop\":\n",
    "            tick += 1\n",
    "            i, j = divmod(tick - 1, 40)\n",
    "            pixels[i][j] = \"#\" if abs(j - x) <= 1 else \".\"\n",
    "        elif instruction == \"addx\":\n",
    "            v = int(arg[0])\n",
    "            tick += 1\n",
    "            i, j = divmod(tick - 1, 40)\n",
    "            pixels[i][j] = \"#\" if abs(j - x) <= 1 else \".\"\n",
    "            tick += 1\n",
    "            i, j = divmod(tick - 1, 40)\n",
    "            pixels[i][j] = \"#\" if abs(j - x) <= 1 else \".\"\n",
    "            x += v\n",
    "\n",
    "for i in range(height):\n",
    "    print(\"\".join(pixels[i]))  # PAPJCBHP\n",
    "\n"
   ]
  }
 ],
 "metadata": {
  "kernelspec": {
   "display_name": "base",
   "language": "python",
   "name": "python3"
  },
  "language_info": {
   "codemirror_mode": {
    "name": "ipython",
    "version": 3
   },
   "file_extension": ".py",
   "mimetype": "text/x-python",
   "name": "python",
   "nbconvert_exporter": "python",
   "pygments_lexer": "ipython3",
   "version": "3.9.7"
  },
  "orig_nbformat": 4,
  "vscode": {
   "interpreter": {
    "hash": "3979039c0953ef28e015c3ced4776cde123c2af84f71101b6fdde7dc0b176a4b"
   }
  }
 },
 "nbformat": 4,
 "nbformat_minor": 2
}
