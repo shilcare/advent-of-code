{
 "cells": [
  {
   "cell_type": "code",
   "execution_count": 4,
   "metadata": {},
   "outputs": [
    {
     "name": "stdout",
     "output_type": "stream",
     "text": [
      "729 129\n",
      "Cycle length: 600\n",
      "Cycle start: 129\n"
     ]
    }
   ],
   "source": [
    "from itertools import count\n",
    "from collections import defaultdict\n",
    "\n",
    "\n",
    "def printBoard(board, minute, blizzards, expedition):\n",
    "    print(f\"=== Minute {minute} ===\")\n",
    "    n, m = len(board), len(board[0])\n",
    "    for i in range(n):\n",
    "        for j in range(m):\n",
    "            if (i, j) in blizzards:\n",
    "                if len(blizzards[(i, j)]) == 1:\n",
    "                    print(blizzards[(i, j)][0], end=\"\")\n",
    "                else:\n",
    "                    print(len(blizzards[(i, j)]), end=\"\")\n",
    "            elif board[i][j] in \"^v<>\":\n",
    "                print(\".\", end=\"\")\n",
    "            else:\n",
    "                print(board[i][j], end=\"\")\n",
    "        print()\n",
    "    print()\n",
    "\n",
    "\n",
    "with open(\"24.input\", \"r\") as f:\n",
    "    blizzardsBoard = f.read().splitlines()\n",
    "n, m = len(blizzardsBoard), len(blizzardsBoard[0])\n",
    "expedition, exit = (0, 1), (n - 1, m - 2)\n",
    "blizzards = defaultdict(\n",
    "    list,\n",
    "    {\n",
    "        (i, j): blizzardsBoard[i][j]\n",
    "        for i in range(n)\n",
    "        for j in range(m)\n",
    "        if blizzardsBoard[i][j] in \"^v<>\"\n",
    "    },\n",
    ")\n",
    "# printBoard(blizzardsBoard, 0, blizzards, expedition)\n",
    "\n",
    "seen = {str(blizzards): 0}\n",
    "blizzardsHistory = [blizzards]\n",
    "cycleLen = -1\n",
    "cycleStart = -1\n",
    "\n",
    "for minute in count(start=1):\n",
    "    newBlizzards = defaultdict(list)\n",
    "    for (i, j), blizzardList in blizzards.items():\n",
    "        for d in blizzardList:\n",
    "            if d == \"^\":\n",
    "                nextPos = (i - 1 if i > 1 else n - 2, j)\n",
    "                newBlizzards[nextPos].append(\"^\")\n",
    "            elif d == \"v\":\n",
    "                nextPos = (i + 1 if i < n - 2 else 1, j)\n",
    "                newBlizzards[nextPos].append(\"v\")\n",
    "            elif d == \"<\":\n",
    "                nextPos = (i, j - 1 if j > 1 else m - 2)\n",
    "                newBlizzards[nextPos].append(\"<\")\n",
    "            elif d == \">\":\n",
    "                nextPos = (i, j + 1 if j < m - 2 else 1)\n",
    "                newBlizzards[nextPos].append(\">\")\n",
    "    # printBoard(blizzardsBoard, minute, newBlizzards, expedition)\n",
    "    if str(newBlizzards) in seen:\n",
    "        print(minute, seen[str(newBlizzards)])\n",
    "        cycleLen = minute - seen[str(newBlizzards)]\n",
    "        cycleStart = seen[str(newBlizzards)]\n",
    "        print(f\"Cycle length: {cycleLen}\", f\"Cycle start: {cycleStart}\", sep=\"\\n\")\n",
    "        # printBoard(blizzardsBoard, minute, newBlizzards, expedition)\n",
    "        break\n",
    "    seen[str(newBlizzards)] = minute\n",
    "    blizzardsHistory.append(newBlizzards)\n",
    "    blizzards = newBlizzards\n"
   ]
  },
  {
   "cell_type": "code",
   "execution_count": 5,
   "metadata": {},
   "outputs": [
    {
     "name": "stdout",
     "output_type": "stream",
     "text": [
      "reached the exit in 308 minutes\n"
     ]
    }
   ],
   "source": [
    "# BFS from the expedition\n",
    "states = {(expedition, 0): 0}  # (pos, blizzardIndex) -> minute\n",
    "expeditionPosCandidates = [expedition]\n",
    "reachedExit = False\n",
    "for minute in count(start=1):\n",
    "    if reachedExit:\n",
    "        break\n",
    "    blizzardIndex = (\n",
    "        minute if minute < cycleStart else cycleStart + (minute - cycleStart) % cycleLen\n",
    "    )\n",
    "    blizzards = blizzardsHistory[blizzardIndex]\n",
    "    newExpeditionPosCandidates = []\n",
    "    for pos in expeditionPosCandidates:\n",
    "        if pos not in blizzards and (pos, blizzardIndex) not in states:\n",
    "            # expedition can wait in place\n",
    "            newExpeditionPosCandidates.append(pos)\n",
    "            states[(pos, blizzardIndex)] = minute\n",
    "\n",
    "        for di, dj in [(-1, 0), (1, 0), (0, -1), (0, 1)]:\n",
    "            nextPos = (pos[0] + di, pos[1] + dj)\n",
    "            if nextPos == exit:\n",
    "                print(f\"reached the exit in {minute} minutes\")\n",
    "                reachedExit = True\n",
    "                break\n",
    "            if nextPos == expedition or (\n",
    "                0 < nextPos[0] < n - 1 and 0 < nextPos[1] < m - 1\n",
    "            ):\n",
    "                if nextPos not in blizzards and (nextPos, blizzardIndex) not in states:\n",
    "                    newExpeditionPosCandidates.append(nextPos)\n",
    "                    states[(nextPos, blizzardIndex)] = minute\n",
    "\n",
    "        if reachedExit:\n",
    "            break\n",
    "\n",
    "    expeditionPosCandidates = newExpeditionPosCandidates\n"
   ]
  },
  {
   "cell_type": "code",
   "execution_count": 6,
   "metadata": {},
   "outputs": [
    {
     "name": "stdout",
     "output_type": "stream",
     "text": [
      "reached the target (26, 120) in 308 minutes from (0, 1)\n",
      "reached the target (0, 1) in 598 minutes from (26, 120)\n",
      "reached the target (26, 120) in 908 minutes from (0, 1)\n"
     ]
    }
   ],
   "source": [
    "def minuteToBlizzardIndex(minute):\n",
    "    return (\n",
    "        minute if minute < cycleStart else cycleStart + (minute - cycleStart) % cycleLen\n",
    "    )\n",
    "\n",
    "\n",
    "def bfs(startMinute, startPos, targetPos):\n",
    "    states = set(\n",
    "        [(startPos, minuteToBlizzardIndex(startMinute))]\n",
    "    )  # (pos, blizzardIndex)\n",
    "    positions = [startPos]\n",
    "    for minute in count(start=startMinute + 1):\n",
    "        blizzardIndex = minuteToBlizzardIndex(minute)\n",
    "        blizzards = blizzardsHistory[blizzardIndex]\n",
    "        newPositions = []\n",
    "        for pos in positions:\n",
    "            if pos not in blizzards and (pos, blizzardIndex) not in states:\n",
    "                # expedition can wait in place\n",
    "                newPositions.append(pos)\n",
    "                states.add((pos, blizzardIndex))\n",
    "\n",
    "            for di, dj in [(-1, 0), (1, 0), (0, -1), (0, 1)]:\n",
    "                nextPos = (pos[0] + di, pos[1] + dj)\n",
    "                if nextPos == targetPos:\n",
    "                    print(\n",
    "                        f\"reached the target {targetPos} in {minute} minutes from {startPos}\"\n",
    "                    )\n",
    "                    return minute\n",
    "                if nextPos == startPos or (\n",
    "                    0 < nextPos[0] < n - 1 and 0 < nextPos[1] < m - 1\n",
    "                ):\n",
    "                    if (\n",
    "                        nextPos not in blizzards\n",
    "                        and (nextPos, blizzardIndex) not in states\n",
    "                    ):\n",
    "                        newPositions.append(nextPos)\n",
    "                        states.add((nextPos, blizzardIndex))\n",
    "        positions = newPositions\n",
    "\n",
    "\n",
    "t1 = bfs(0, expedition, exit)\n",
    "t2 = bfs(t1, exit, expedition)\n",
    "t3 = bfs(t2, expedition, exit)\n"
   ]
  }
 ],
 "metadata": {
  "kernelspec": {
   "display_name": "base",
   "language": "python",
   "name": "python3"
  },
  "language_info": {
   "codemirror_mode": {
    "name": "ipython",
    "version": 3
   },
   "file_extension": ".py",
   "mimetype": "text/x-python",
   "name": "python",
   "nbconvert_exporter": "python",
   "pygments_lexer": "ipython3",
   "version": "3.9.7 (default, Sep 16 2021, 08:50:36) \n[Clang 10.0.0 ]"
  },
  "orig_nbformat": 4,
  "vscode": {
   "interpreter": {
    "hash": "3979039c0953ef28e015c3ced4776cde123c2af84f71101b6fdde7dc0b176a4b"
   }
  }
 },
 "nbformat": 4,
 "nbformat_minor": 2
}
