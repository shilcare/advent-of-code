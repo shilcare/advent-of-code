{
 "cells": [
  {
   "cell_type": "code",
   "execution_count": 2,
   "metadata": {},
   "outputs": [
    {
     "name": "stdout",
     "output_type": "stream",
     "text": [
      "364367103397416.0\n"
     ]
    }
   ],
   "source": [
    "from operator import add, sub, mul, truediv\n",
    "\n",
    "ops = {\"+\": add, \"-\": sub, \"*\": mul, \"/\": truediv}\n",
    "monkeyExpr = {}\n",
    "with open(\"21.input\", \"r\") as f:\n",
    "    for line in f:\n",
    "        monkeyName, expr = line.rstrip().split(\":\")\n",
    "        tokens = expr.strip().split(\" \")\n",
    "        if len(tokens) == 1 and tokens[0].isdigit():\n",
    "            monkeyExpr[monkeyName] = {\"value\": int(tokens[0])}\n",
    "        else:\n",
    "            monkeyExpr[monkeyName] = {\n",
    "                \"value\": None,\n",
    "                \"op1\": tokens[0],\n",
    "                \"op2\": tokens[2],\n",
    "                \"op\": tokens[1],\n",
    "            }\n",
    "\n",
    "\n",
    "def evalMonkeyExpr(monkeyName):\n",
    "    expr = monkeyExpr[monkeyName]\n",
    "    if expr[\"value\"] is not None:\n",
    "        return expr[\"value\"]\n",
    "    expr[\"value\"] = ops[expr[\"op\"]](\n",
    "        evalMonkeyExpr(expr[\"op1\"]), evalMonkeyExpr(expr[\"op2\"])\n",
    "    )\n",
    "    return expr[\"value\"]\n",
    "\n",
    "\n",
    "print(evalMonkeyExpr(\"root\"))\n"
   ]
  },
  {
   "cell_type": "code",
   "execution_count": 60,
   "metadata": {},
   "outputs": [
    {
     "name": "stdout",
     "output_type": "stream",
     "text": [
      "wvbw = 3 176622300409532.0 2 28 523.0 2 498 2 362.0 2 443.0 4 522.0 2 5 654.0 301 5 982.0 524 h 594.0 - 215.0 + 7 / + 42 * + * 210.0 - 4 / + 12 / 901.0 - 4 * + 2 / 75 - * 808 - * 929.0 + 7 / + 15 * 157 - 2 / 35 + 2 / 35 - * 350 - 2 / + * 193 + + 3 / 564 - * 738 + 2 / 945 - 2 * + 4 / 343 - * 656.0 - 10 / + * 946 - 2 / 591.0 + 2 * 265.0 - 3 / 788 + * 918.0 + 4 / 892.0 - 7 * - 2 / 302.0 + *\n",
      "czwc = 99433652936583.0\n",
      "3782852515583.0\n"
     ]
    }
   ],
   "source": [
    "import numbers\n",
    "\n",
    "monkeyExpr = {}\n",
    "with open(\"21.input\", \"r\") as f:\n",
    "    for line in f:\n",
    "        monkeyName, expr = line.rstrip().split(\":\")\n",
    "        tokens = expr.strip().split(\" \")\n",
    "        if len(tokens) == 1 and tokens[0].isdigit():\n",
    "            monkeyExpr[monkeyName] = {\"value\": int(tokens[0])}\n",
    "        else:\n",
    "            monkeyExpr[monkeyName] = {\n",
    "                \"value\": None,\n",
    "                \"op1\": tokens[0],\n",
    "                \"op2\": tokens[2],\n",
    "                \"op\": tokens[1],\n",
    "            }\n",
    "\n",
    "\n",
    "def evalMonkeyExpr(monkeyName):\n",
    "    if monkeyName == \"humn\":\n",
    "        return \"h\"\n",
    "    expr = monkeyExpr[monkeyName]\n",
    "    if expr[\"value\"] is not None:\n",
    "        return expr[\"value\"]\n",
    "    op1Value = evalMonkeyExpr(expr[\"op1\"])\n",
    "    op2Value = evalMonkeyExpr(expr[\"op2\"])\n",
    "    if isinstance(op1Value, numbers.Number) and isinstance(op2Value, numbers.Number):\n",
    "        expr[\"value\"] = ops[expr[\"op\"]](op1Value, op2Value)\n",
    "    else:\n",
    "        # expr[\"value\"] = f\"({op1Value}) {expr['op']} ({op2Value})\"\n",
    "        expr[\"value\"] = f\"{op1Value} {op2Value} {expr['op']}\"\n",
    "    return expr[\"value\"]\n",
    "\n",
    "\n",
    "lhs = evalMonkeyExpr(monkeyExpr[\"root\"][\"op1\"])\n",
    "rhs = evalMonkeyExpr(monkeyExpr[\"root\"][\"op2\"])\n",
    "lhsName = monkeyExpr[\"root\"][\"op1\"]\n",
    "rhsName = monkeyExpr[\"root\"][\"op2\"]\n",
    "print(f\"{lhsName} = {lhs}\")\n",
    "print(f\"{rhsName} = {rhs}\")\n",
    "\n",
    "\n",
    "def f(x):\n",
    "    lhsValue, rhsValue = None, None\n",
    "    if isinstance(lhs, numbers.Number):\n",
    "        lhsValue = lhs\n",
    "    else:\n",
    "        stack = []\n",
    "        for token in lhs.split(\" \"):\n",
    "            if token in ops:\n",
    "                op2 = stack.pop()\n",
    "                op1 = stack.pop()\n",
    "                stack.append(ops[token](op1, op2))\n",
    "            elif token == \"h\":\n",
    "                stack.append(float(x))\n",
    "            else:\n",
    "                stack.append(float(token))\n",
    "        assert len(stack) == 1\n",
    "        lhsValue = stack[0]\n",
    "    if isinstance(rhs, numbers.Number):\n",
    "        rhsValue = rhs\n",
    "    else:\n",
    "        stack = []\n",
    "        for token in rhs.split(\" \"):\n",
    "            if token in ops:\n",
    "                op2 = stack.pop()\n",
    "                op1 = stack.pop()\n",
    "                stack.append(ops[token](op1, op2))\n",
    "            elif token == \"h\":\n",
    "                stack.append(float(x))\n",
    "            else:\n",
    "                stack.append(float(token))\n",
    "        assert len(stack) == 1\n",
    "        rhsValue = stack[0]\n",
    "    return lhsValue - rhsValue\n",
    "\n",
    "\n",
    "# newton's method to find the root\n",
    "low, high = 1e12, 1e13\n",
    "while high - low > 1e-6:\n",
    "    mid = (low + high) / 2\n",
    "    v = f(mid)\n",
    "    if v > 0:\n",
    "        low = mid\n",
    "    elif v < 0:\n",
    "        high = mid\n",
    "    else:\n",
    "        print(mid)\n",
    "        break\n"
   ]
  },
  {
   "cell_type": "code",
   "execution_count": null,
   "metadata": {},
   "outputs": [],
   "source": []
  }
 ],
 "metadata": {
  "kernelspec": {
   "display_name": "base",
   "language": "python",
   "name": "python3"
  },
  "language_info": {
   "codemirror_mode": {
    "name": "ipython",
    "version": 3
   },
   "file_extension": ".py",
   "mimetype": "text/x-python",
   "name": "python",
   "nbconvert_exporter": "python",
   "pygments_lexer": "ipython3",
   "version": "3.9.7"
  },
  "orig_nbformat": 4,
  "vscode": {
   "interpreter": {
    "hash": "3979039c0953ef28e015c3ced4776cde123c2af84f71101b6fdde7dc0b176a4b"
   }
  }
 },
 "nbformat": 4,
 "nbformat_minor": 2
}
