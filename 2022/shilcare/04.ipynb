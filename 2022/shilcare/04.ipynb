{
 "cells": [
  {
   "cell_type": "code",
   "execution_count": 4,
   "metadata": {},
   "outputs": [
    {
     "name": "stdout",
     "output_type": "stream",
     "text": [
      "494\n"
     ]
    }
   ],
   "source": [
    "with open(\"04.input\", \"r\") as f:\n",
    "    count = 0\n",
    "    for line in f:\n",
    "        sectionA, sectionB = line.split(\",\")\n",
    "        startA, endA = map(int, sectionA.split(\"-\"))\n",
    "        startB, endB = map(int, sectionB.split(\"-\"))\n",
    "        if startA <= startB <= endB <= endA:\n",
    "            count += 1\n",
    "        elif startB <= startA <= endA <= endB:\n",
    "            count += 1\n",
    "    print(count)\n"
   ]
  },
  {
   "cell_type": "code",
   "execution_count": 5,
   "metadata": {},
   "outputs": [
    {
     "name": "stdout",
     "output_type": "stream",
     "text": [
      "833\n"
     ]
    }
   ],
   "source": [
    "with open(\"04.input\", \"r\") as f:\n",
    "    total = 0\n",
    "    count = 0\n",
    "    for line in f:\n",
    "        total += 1\n",
    "        sectionA, sectionB = line.split(\",\")\n",
    "        startA, endA = map(int, sectionA.split(\"-\"))\n",
    "        startB, endB = map(int, sectionB.split(\"-\"))\n",
    "        if startA > endB or startB > endA:\n",
    "            count += 1\n",
    "    print(total - count)\n"
   ]
  }
 ],
 "metadata": {
  "kernelspec": {
   "display_name": "Python 3",
   "language": "python",
   "name": "python3"
  },
  "language_info": {
   "codemirror_mode": {
    "name": "ipython",
    "version": 3
   },
   "file_extension": ".py",
   "mimetype": "text/x-python",
   "name": "python",
   "nbconvert_exporter": "python",
   "pygments_lexer": "ipython3",
   "version": "3.9.7 (default, Sep 16 2021, 08:50:36) \n[Clang 10.0.0 ]"
  },
  "orig_nbformat": 4,
  "vscode": {
   "interpreter": {
    "hash": "3979039c0953ef28e015c3ced4776cde123c2af84f71101b6fdde7dc0b176a4b"
   }
  }
 },
 "nbformat": 4,
 "nbformat_minor": 2
}
