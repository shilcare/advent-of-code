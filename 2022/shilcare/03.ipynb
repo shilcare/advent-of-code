{
 "cells": [
  {
   "cell_type": "code",
   "execution_count": 3,
   "metadata": {},
   "outputs": [
    {
     "name": "stdout",
     "output_type": "stream",
     "text": [
      "7674\n"
     ]
    }
   ],
   "source": [
    "from string import ascii_letters\n",
    "\n",
    "itemTypes = ascii_letters\n",
    "priorities = {itemType: i + 1 for i, itemType in enumerate(itemTypes)}\n",
    "\n",
    "sumOfPriorities = 0\n",
    "with open(\"03.input\", \"r\") as f:\n",
    "    for line in f:\n",
    "        n = len(line)\n",
    "        seen = set(line[: n // 2])\n",
    "        for i in range(n // 2, n):\n",
    "            if line[i] in seen:\n",
    "                sumOfPriorities += priorities[line[i]]\n",
    "                break\n",
    "print(sumOfPriorities)\n"
   ]
  },
  {
   "cell_type": "code",
   "execution_count": 1,
   "metadata": {},
   "outputs": [
    {
     "name": "stdout",
     "output_type": "stream",
     "text": [
      "2805\n"
     ]
    }
   ],
   "source": [
    "from string import ascii_letters\n",
    "\n",
    "itemTypes = ascii_letters\n",
    "priorities = {itemType: i + 1 for i, itemType in enumerate(itemTypes)}\n",
    "sumOfPriorities = 0\n",
    "with open(\"03.input\", \"r\") as f:\n",
    "    n = 0\n",
    "    seen = set(itemTypes)\n",
    "    for line in f:\n",
    "        n += 1\n",
    "        seen = {c for c in line if c in seen}\n",
    "        if n % 3 == 0:\n",
    "            sumOfPriorities += priorities[seen.pop()]\n",
    "            seen = set(itemTypes)\n",
    "print(sumOfPriorities)\n"
   ]
  }
 ],
 "metadata": {
  "kernelspec": {
   "display_name": "Python 3",
   "language": "python",
   "name": "python3"
  },
  "language_info": {
   "codemirror_mode": {
    "name": "ipython",
    "version": 3
   },
   "file_extension": ".py",
   "mimetype": "text/x-python",
   "name": "python",
   "nbconvert_exporter": "python",
   "pygments_lexer": "ipython3",
   "version": "3.9.7 (default, Sep 16 2021, 08:50:36) \n[Clang 10.0.0 ]"
  },
  "orig_nbformat": 4,
  "vscode": {
   "interpreter": {
    "hash": "3979039c0953ef28e015c3ced4776cde123c2af84f71101b6fdde7dc0b176a4b"
   }
  }
 },
 "nbformat": 4,
 "nbformat_minor": 2
}
