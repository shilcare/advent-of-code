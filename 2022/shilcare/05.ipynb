{
 "cells": [
  {
   "cell_type": "code",
   "execution_count": 11,
   "metadata": {},
   "outputs": [
    {
     "name": "stdout",
     "output_type": "stream",
     "text": [
      "SPFMVDTZT\n"
     ]
    }
   ],
   "source": [
    "import re\n",
    "\n",
    "with open(\"05.input\", \"r\") as f:\n",
    "    stackLines = []\n",
    "    stacksReady = False\n",
    "    for line in f:\n",
    "        line = line.rstrip(\"\\n\")\n",
    "        if line == \"\":\n",
    "            stacksReady = True\n",
    "            stacks = [[] for _ in range(len(stackLines.pop().split()))]\n",
    "            while stackLines:\n",
    "                crates = stackLines.pop()\n",
    "                crates = [\n",
    "                    crates[i : i + 4].strip(\" []\") for i in range(0, len(crates), 4)\n",
    "                ]\n",
    "                for i, crate in enumerate(crates):\n",
    "                    if crate != \"\":\n",
    "                        stacks[i].append(crate)\n",
    "        elif stacksReady:\n",
    "            numCrates, fromStack, toStack = map(\n",
    "                int, re.match(r\"move (\\d+) from (\\d+) to (\\d+)\", line).groups()\n",
    "            )\n",
    "            fromStack -= 1\n",
    "            toStack -= 1\n",
    "            for _ in range(numCrates):\n",
    "                stacks[toStack].append(stacks[fromStack].pop())\n",
    "        else:\n",
    "            stackLines.append(line)\n",
    "    print(\"\".join([stack[-1] for stack in stacks]))\n"
   ]
  },
  {
   "cell_type": "code",
   "execution_count": 12,
   "metadata": {},
   "outputs": [
    {
     "name": "stdout",
     "output_type": "stream",
     "text": [
      "ZFSJBPRFP\n"
     ]
    }
   ],
   "source": [
    "import re\n",
    "\n",
    "with open(\"05.input\", \"r\") as f:\n",
    "    stackLines = []\n",
    "    stacksReady = False\n",
    "    for line in f:\n",
    "        line = line.rstrip(\"\\n\")\n",
    "        if line == \"\":\n",
    "            stacksReady = True\n",
    "            stacks = [[] for _ in range(len(stackLines.pop().split()))]\n",
    "            while stackLines:\n",
    "                crates = stackLines.pop()\n",
    "                crates = [\n",
    "                    crates[i : i + 4].strip(\" []\") for i in range(0, len(crates), 4)\n",
    "                ]\n",
    "                for i, crate in enumerate(crates):\n",
    "                    if crate != \"\":\n",
    "                        stacks[i].append(crate)\n",
    "        elif stacksReady:\n",
    "            numCrates, fromStack, toStack = map(\n",
    "                int, re.match(r\"move (\\d+) from (\\d+) to (\\d+)\", line).groups()\n",
    "            )\n",
    "            fromStack -= 1\n",
    "            toStack -= 1\n",
    "            stacks[toStack].extend(stacks[fromStack][-numCrates:])\n",
    "            del stacks[fromStack][-numCrates:]\n",
    "        else:\n",
    "            stackLines.append(line)\n",
    "    print(\"\".join([stack[-1] for stack in stacks]))\n"
   ]
  }
 ],
 "metadata": {
  "kernelspec": {
   "display_name": "Python 3",
   "language": "python",
   "name": "python3"
  },
  "language_info": {
   "codemirror_mode": {
    "name": "ipython",
    "version": 3
   },
   "file_extension": ".py",
   "mimetype": "text/x-python",
   "name": "python",
   "nbconvert_exporter": "python",
   "pygments_lexer": "ipython3",
   "version": "3.9.7 (default, Sep 16 2021, 08:50:36) \n[Clang 10.0.0 ]"
  },
  "orig_nbformat": 4,
  "vscode": {
   "interpreter": {
    "hash": "3979039c0953ef28e015c3ced4776cde123c2af84f71101b6fdde7dc0b176a4b"
   }
  }
 },
 "nbformat": 4,
 "nbformat_minor": 2
}
