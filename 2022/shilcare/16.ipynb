{
 "cells": [
  {
   "cell_type": "code",
   "execution_count": 25,
   "metadata": {},
   "outputs": [],
   "source": [
    "import re\n",
    "from typing import NamedTuple\n",
    "from itertools import permutations\n",
    "\n",
    "Valve = NamedTuple(\"Valve\", id=int, flowRate=int, neighborValves=list[str])\n",
    "valveMap = {}\n",
    "n = 0\n",
    "with open(\"16.input\", \"r\") as f:\n",
    "    for line in f:\n",
    "        m = re.match(\n",
    "            r\"Valve \\b(\\w+)\\b has flow rate=(\\d+); tunnels? leads? to valves? (.*)$\",\n",
    "            line,\n",
    "        )\n",
    "        valveName, flowRate, neighborValves = m.groups()\n",
    "        valveMap[valveName] = Valve(n, int(flowRate), neighborValves.split(\", \"))\n",
    "        n += 1\n",
    "\n",
    "distances = [[float(\"inf\")] * n for _ in range(n)]\n",
    "for valve in valveMap:\n",
    "    id, _, neighborValves = valveMap[valve]\n",
    "    distances[id][id] = 0\n",
    "    for v in neighborValves:\n",
    "        distances[id][valveMap[v].id] = 1\n",
    "\n",
    "# floyd-warshall find lengths of shortest paths between all pairs of valves\n",
    "for k in range(n):\n",
    "    for i in range(n):\n",
    "        for j in range(n):\n",
    "            distances[i][j] = min(distances[i][j], distances[i][k] + distances[k][j])\n"
   ]
  },
  {
   "cell_type": "code",
   "execution_count": 26,
   "metadata": {},
   "outputs": [
    {
     "name": "stdout",
     "output_type": "stream",
     "text": [
      "1641\n"
     ]
    }
   ],
   "source": [
    "def mostPressureCanBeReleased(valves: list[str], maxTime=30):\n",
    "    \"\"\"\n",
    "    returns most pressure can be released in maxTime by open the valves in order\n",
    "    \"\"\"\n",
    "    currentValve = valveMap[\"AA\"].id\n",
    "    totalPressureReleased = 0\n",
    "    t = 0\n",
    "    for v in valves:\n",
    "        nextValve = valveMap[v].id\n",
    "        # follow the shortest path to the next valve\n",
    "        t += distances[currentValve][nextValve]\n",
    "        if t >= maxTime:\n",
    "            return totalPressureReleased\n",
    "        # open the valve\n",
    "        t += 1\n",
    "        totalPressureReleased += valveMap[v].flowRate * (maxTime - t)\n",
    "        currentValve = nextValve\n",
    "    return totalPressureReleased\n",
    "\n",
    "\n",
    "pressureReleaseVavles = sorted(v for v in valveMap if valveMap[v].flowRate > 0)\n",
    "# mostPressure = 0\n",
    "# for i, valveSeq in enumerate(permutations(pressureReleaseVavles)):\n",
    "#     pressure = mostPressureCanBeReleased(valveSeq)\n",
    "#     if pressure > 0:\n",
    "#         print(i, pressure, valveSeq)\n",
    "#     mostPressure = max(mostPressure, pressure)\n",
    "\n",
    "openValves = set()\n",
    "dfsCache = {}\n",
    "\n",
    "\n",
    "def dfs(currentValve, remainingTime):\n",
    "    cacheKey = (currentValve, remainingTime, frozenset(openValves))\n",
    "    if cacheKey in dfsCache:\n",
    "        return dfsCache[cacheKey]\n",
    "\n",
    "    if remainingTime <= 0:\n",
    "        return 0\n",
    "    result = 0\n",
    "    if currentValve != \"AA\":\n",
    "        openValves.add(currentValve)\n",
    "        remainingTime -= 1\n",
    "        result += valveMap[currentValve].flowRate * remainingTime\n",
    "    maxPressureReleased = 0\n",
    "    for v in pressureReleaseVavles:\n",
    "        if v not in openValves:\n",
    "            currentValveId = valveMap[currentValve].id\n",
    "            id = valveMap[v].id\n",
    "            maxPressureReleased = max(\n",
    "                maxPressureReleased,\n",
    "                dfs(v, remainingTime - distances[currentValveId][id]),\n",
    "            )\n",
    "    if currentValve != \"AA\":\n",
    "        openValves.remove(currentValve)\n",
    "    result += maxPressureReleased\n",
    "    dfsCache[cacheKey] = result\n",
    "    return result\n",
    "\n",
    "\n",
    "print(dfs(\"AA\", 30))\n"
   ]
  },
  {
   "cell_type": "code",
   "execution_count": 27,
   "metadata": {},
   "outputs": [
    {
     "name": "stdout",
     "output_type": "stream",
     "text": [
      "CU 2141\n",
      "FF 2179\n",
      "IZ 2261\n",
      "2261\n"
     ]
    }
   ],
   "source": [
    "openValves = set()\n",
    "\n",
    "\n",
    "def dfs2(currentValve, remainingTime):\n",
    "    \"\"\" DFS for part 2 \"\"\"\n",
    "    if remainingTime <= 0:\n",
    "        # pressure released by the elephant with remaining valves\n",
    "        pressureReleasedByElephant = dfs(\"AA\", 26)\n",
    "        return pressureReleasedByElephant\n",
    "    result = 0\n",
    "    if currentValve != \"AA\":\n",
    "        openValves.add(currentValve)\n",
    "        remainingTime -= 1\n",
    "        result += valveMap[currentValve].flowRate * remainingTime\n",
    "\n",
    "    maxPressureReleased = dfs(\"AA\", 26)  # case when the elephant open remaining valves\n",
    "    for v in pressureReleaseVavles:\n",
    "        if v not in openValves:\n",
    "            currentValveId = valveMap[currentValve].id\n",
    "            id = valveMap[v].id\n",
    "            pressureReleased = dfs2(v, remainingTime - distances[currentValveId][id])\n",
    "            if currentValve == \"AA\" and pressureReleased > maxPressureReleased:\n",
    "                print(v, pressureReleased)\n",
    "            maxPressureReleased = max(maxPressureReleased, pressureReleased)\n",
    "\n",
    "    if currentValve != \"AA\":\n",
    "        openValves.remove(currentValve)\n",
    "\n",
    "    result += maxPressureReleased\n",
    "    return result\n",
    "\n",
    "\n",
    "print(dfs2(\"AA\", 26))\n"
   ]
  }
 ],
 "metadata": {
  "kernelspec": {
   "display_name": "base",
   "language": "python",
   "name": "python3"
  },
  "language_info": {
   "codemirror_mode": {
    "name": "ipython",
    "version": 3
   },
   "file_extension": ".py",
   "mimetype": "text/x-python",
   "name": "python",
   "nbconvert_exporter": "python",
   "pygments_lexer": "ipython3",
   "version": "3.9.7"
  },
  "orig_nbformat": 4,
  "vscode": {
   "interpreter": {
    "hash": "3979039c0953ef28e015c3ced4776cde123c2af84f71101b6fdde7dc0b176a4b"
   }
  }
 },
 "nbformat": 4,
 "nbformat_minor": 2
}
