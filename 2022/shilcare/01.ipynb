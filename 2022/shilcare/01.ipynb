{
 "cells": [
  {
   "cell_type": "code",
   "execution_count": 1,
   "metadata": {},
   "outputs": [
    {
     "name": "stdout",
     "output_type": "stream",
     "text": [
      "64929\n"
     ]
    }
   ],
   "source": [
    "maxTotalCalories = 0\n",
    "with open(\"01.input\", \"r\") as f:\n",
    "    accumulator = 0\n",
    "    for line in f:\n",
    "        if line.rstrip() == \"\":\n",
    "            if accumulator > maxTotalCalories:\n",
    "                maxTotalCalories = accumulator\n",
    "            accumulator = 0\n",
    "        else:\n",
    "            accumulator += int(line.rstrip())\n",
    "    if accumulator > maxTotalCalories:\n",
    "        maxTotalCalories = accumulator\n",
    "    print(maxTotalCalories)\n"
   ]
  },
  {
   "cell_type": "code",
   "execution_count": 1,
   "metadata": {},
   "outputs": [
    {
     "name": "stdout",
     "output_type": "stream",
     "text": [
      "[64078, 64929, 64690] 193697\n"
     ]
    }
   ],
   "source": [
    "from heapq import heappush, heapreplace\n",
    "\n",
    "top3TotalCalories = []\n",
    "with open(\"01.input\", \"r\") as f:\n",
    "    accumulator = 0\n",
    "    for line in f:\n",
    "        if line.rstrip() == \"\":\n",
    "            if len(top3TotalCalories) < 3:\n",
    "                heappush(top3TotalCalories, accumulator)\n",
    "            elif accumulator > top3TotalCalories[0]:\n",
    "                heapreplace(top3TotalCalories, accumulator)\n",
    "            accumulator = 0\n",
    "        else:\n",
    "            accumulator += int(line.rstrip())\n",
    "\n",
    "    if accumulator > 0:\n",
    "        if len(top3TotalCalories) < 3:\n",
    "            top3TotalCalories.append(accumulator)\n",
    "        elif accumulator > top3TotalCalories[0]:\n",
    "            heapreplace(top3TotalCalories, accumulator)\n",
    "    print(top3TotalCalories, sum(top3TotalCalories))\n"
   ]
  }
 ],
 "metadata": {
  "kernelspec": {
   "display_name": "Python 3",
   "language": "python",
   "name": "python3"
  },
  "language_info": {
   "codemirror_mode": {
    "name": "ipython",
    "version": 3
   },
   "file_extension": ".py",
   "mimetype": "text/x-python",
   "name": "python",
   "nbconvert_exporter": "python",
   "pygments_lexer": "ipython3",
   "version": "3.9.7 (default, Sep 16 2021, 08:50:36) \n[Clang 10.0.0 ]"
  },
  "orig_nbformat": 4,
  "vscode": {
   "interpreter": {
    "hash": "3979039c0953ef28e015c3ced4776cde123c2af84f71101b6fdde7dc0b176a4b"
   }
  }
 },
 "nbformat": 4,
 "nbformat_minor": 2
}
