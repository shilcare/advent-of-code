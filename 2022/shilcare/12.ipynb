{
 "cells": [
  {
   "cell_type": "code",
   "execution_count": 14,
   "metadata": {},
   "outputs": [
    {
     "name": "stdout",
     "output_type": "stream",
     "text": [
      "(20, 0) (20, 120)\n",
      "True 468\n"
     ]
    }
   ],
   "source": [
    "with open(\"12.input\", \"r\") as f:\n",
    "    heightmap = [[*line.strip()] for line in f]\n",
    "    n, m = len(heightmap), len(heightmap[0])\n",
    "    startPos, endPos = None, None\n",
    "    for i in range(n):\n",
    "        for j in range(m):\n",
    "            if heightmap[i][j] == \"S\":\n",
    "                startPos = (i, j)\n",
    "                heightmap[i][j] = \"a\"\n",
    "            elif heightmap[i][j] == \"E\":\n",
    "                endPos = (i, j)\n",
    "                heightmap[i][j] = \"z\"\n",
    "    print(startPos, endPos)\n",
    "    visited = [[False] * m for _ in range(n)]\n",
    "    currentLevel = [startPos]\n",
    "    visited[startPos[0]][startPos[1]] = True\n",
    "    steps = 0\n",
    "    found = False\n",
    "    while currentLevel:\n",
    "        nextLevel = []\n",
    "        for pos in currentLevel:\n",
    "            if pos == endPos:\n",
    "                found = True\n",
    "                break\n",
    "            for i, j in [\n",
    "                (pos[0] - 1, pos[1]),\n",
    "                (pos[0] + 1, pos[1]),\n",
    "                (pos[0], pos[1] - 1),\n",
    "                (pos[0], pos[1] + 1),\n",
    "            ]:\n",
    "                if (\n",
    "                    0 <= i < n\n",
    "                    and 0 <= j < m\n",
    "                    and visited[i][j] == False\n",
    "                    and ord(heightmap[i][j]) <= ord(heightmap[pos[0]][pos[1]]) + 1\n",
    "                ):\n",
    "                    nextLevel.append((i, j))\n",
    "                    visited[i][j] = True\n",
    "        if found:\n",
    "            break\n",
    "        currentLevel = nextLevel\n",
    "        steps += 1\n",
    "    print(found, steps)\n"
   ]
  },
  {
   "cell_type": "code",
   "execution_count": 15,
   "metadata": {},
   "outputs": [
    {
     "name": "stdout",
     "output_type": "stream",
     "text": [
      "True 459\n"
     ]
    }
   ],
   "source": [
    "with open(\"12.input\", \"r\") as f:\n",
    "    heightmap = [[*line.strip()] for line in f]\n",
    "    n, m = len(heightmap), len(heightmap[0])\n",
    "    startPos, endPos = None, None\n",
    "    visited = [[False] * m for _ in range(n)]\n",
    "    currentLevel = []\n",
    "    for i in range(n):\n",
    "        for j in range(m):\n",
    "            if heightmap[i][j] == \"S\":\n",
    "                startPos = (i, j)\n",
    "                heightmap[i][j] = \"a\"\n",
    "                currentLevel.append((i, j))\n",
    "                visited[i][j] = True\n",
    "            elif heightmap[i][j] == \"E\":\n",
    "                endPos = (i, j)\n",
    "                heightmap[i][j] = \"z\"\n",
    "            elif heightmap[i][j] == \"a\":\n",
    "                currentLevel.append((i, j))\n",
    "                visited[i][j] = True\n",
    "    steps = 0\n",
    "    found = False\n",
    "    while currentLevel:\n",
    "        nextLevel = []\n",
    "        for pos in currentLevel:\n",
    "            if pos == endPos:\n",
    "                found = True\n",
    "                break\n",
    "            for i, j in [\n",
    "                (pos[0] - 1, pos[1]),\n",
    "                (pos[0] + 1, pos[1]),\n",
    "                (pos[0], pos[1] - 1),\n",
    "                (pos[0], pos[1] + 1),\n",
    "            ]:\n",
    "                if (\n",
    "                    0 <= i < n\n",
    "                    and 0 <= j < m\n",
    "                    and visited[i][j] == False\n",
    "                    and ord(heightmap[i][j]) <= ord(heightmap[pos[0]][pos[1]]) + 1\n",
    "                ):\n",
    "                    nextLevel.append((i, j))\n",
    "                    visited[i][j] = True\n",
    "        if found:\n",
    "            break\n",
    "        currentLevel = nextLevel\n",
    "        steps += 1\n",
    "    print(found, steps)\n"
   ]
  }
 ],
 "metadata": {
  "kernelspec": {
   "display_name": "base",
   "language": "python",
   "name": "python3"
  },
  "language_info": {
   "codemirror_mode": {
    "name": "ipython",
    "version": 3
   },
   "file_extension": ".py",
   "mimetype": "text/x-python",
   "name": "python",
   "nbconvert_exporter": "python",
   "pygments_lexer": "ipython3",
   "version": "3.9.7"
  },
  "orig_nbformat": 4,
  "vscode": {
   "interpreter": {
    "hash": "3979039c0953ef28e015c3ced4776cde123c2af84f71101b6fdde7dc0b176a4b"
   }
  }
 },
 "nbformat": 4,
 "nbformat_minor": 2
}
