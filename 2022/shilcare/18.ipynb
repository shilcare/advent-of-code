{
 "cells": [
  {
   "cell_type": "code",
   "execution_count": 16,
   "metadata": {},
   "outputs": [
    {
     "name": "stdout",
     "output_type": "stream",
     "text": [
      "3326\n",
      "1996\n"
     ]
    }
   ],
   "source": [
    "from collections import deque\n",
    "\n",
    "\n",
    "cubes = set()\n",
    "with open(\"18.input\", \"r\") as f:\n",
    "    for line in f:\n",
    "        x, y, z = map(int, line.rstrip().split(\",\"))\n",
    "        cubes.add((x, y, z))\n",
    "\n",
    "adjacentCubes = lambda x, y, z: [\n",
    "    (x + dx, y + dy, z + dz)\n",
    "    for dx, dy, dz in [\n",
    "        (1, 0, 0),\n",
    "        (0, 1, 0),\n",
    "        (0, 0, 1),\n",
    "        (-1, 0, 0),\n",
    "        (0, -1, 0),\n",
    "        (0, 0, -1),\n",
    "    ]\n",
    "]\n",
    "\n",
    "surfaceArea = 0\n",
    "for cube in cubes:\n",
    "    surfaceArea += sum(1 for neighbor in adjacentCubes(*cube) if neighbor not in cubes)\n",
    "\n",
    "print(surfaceArea)\n",
    "\n",
    "# flood fill from the outside\n",
    "boundingBox = (\n",
    "    tuple(min(cube[i] - 2 for cube in cubes) for i in range(3)),\n",
    "    tuple(max(cube[i] + 2 for cube in cubes) for i in range(3)),\n",
    ")\n",
    "exteriorSurfaceArea = 0\n",
    "q = deque([boundingBox[0]])\n",
    "seen = set([boundingBox[0]])\n",
    "while q:\n",
    "    cube = q.popleft()\n",
    "    if cube in cubes:\n",
    "        # cube is on the surface, stop exloring inside\n",
    "        exteriorSurfaceArea += 1\n",
    "    else:\n",
    "        for neighbor in adjacentCubes(*cube):\n",
    "            # if neighbor is on the surface, each time it is visited, it must be from a different side\n",
    "            if neighbor in cubes or (\n",
    "                neighbor not in seen\n",
    "                and all(\n",
    "                    boundingBox[0][i] <= neighbor[i] <= boundingBox[1][i]\n",
    "                    for i in range(3)\n",
    "                )\n",
    "            ):\n",
    "                q.append(neighbor)\n",
    "                seen.add(neighbor)\n",
    "print(exteriorSurfaceArea)\n"
   ]
  }
 ],
 "metadata": {
  "kernelspec": {
   "display_name": "base",
   "language": "python",
   "name": "python3"
  },
  "language_info": {
   "codemirror_mode": {
    "name": "ipython",
    "version": 3
   },
   "file_extension": ".py",
   "mimetype": "text/x-python",
   "name": "python",
   "nbconvert_exporter": "python",
   "pygments_lexer": "ipython3",
   "version": "3.9.7"
  },
  "orig_nbformat": 4,
  "vscode": {
   "interpreter": {
    "hash": "3979039c0953ef28e015c3ced4776cde123c2af84f71101b6fdde7dc0b176a4b"
   }
  }
 },
 "nbformat": 4,
 "nbformat_minor": 2
}
