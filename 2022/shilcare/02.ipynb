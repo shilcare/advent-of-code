{
 "cells": [
  {
   "cell_type": "code",
   "execution_count": 1,
   "metadata": {},
   "outputs": [
    {
     "name": "stdout",
     "output_type": "stream",
     "text": [
      "9651\n"
     ]
    }
   ],
   "source": [
    "opponentChoices = {\"A\": 0, \"B\": 1, \"C\": 2}\n",
    "recommendedChoices = {\"X\": 0, \"Y\": 1, \"Z\": 2}\n",
    "scoreOfChoices = {\"X\": 1, \"Y\": 2, \"Z\": 3}\n",
    "scoreOfOutcomes = [3, 6, 0]  # [draw, win, lose]\n",
    "\n",
    "totalScore = 0\n",
    "with open(\"02.input\", \"r\") as f:\n",
    "    for line in f:\n",
    "        opponent, recommended = line.split()\n",
    "        outcome = (recommendedChoices[recommended] - opponentChoices[opponent]) % 3\n",
    "        totalScore += scoreOfChoices[recommended] + scoreOfOutcomes[outcome]\n",
    "print(totalScore)\n"
   ]
  },
  {
   "cell_type": "code",
   "execution_count": 2,
   "metadata": {},
   "outputs": [
    {
     "name": "stdout",
     "output_type": "stream",
     "text": [
      "10560\n"
     ]
    }
   ],
   "source": [
    "opponentChoices = {\"A\": 0, \"B\": 1, \"C\": 2}\n",
    "scoreOfChoices = {\"A\": 1, \"B\": 2, \"C\": 3}\n",
    "scoreOfOutcomes = {\"X\": 0, \"Y\": 3, \"Z\": 6}\n",
    "choicesMap = {\n",
    "    \"A\": {\"X\": \"C\", \"Y\": \"A\", \"Z\": \"B\"},\n",
    "    \"B\": {\"X\": \"A\", \"Y\": \"B\", \"Z\": \"C\"},\n",
    "    \"C\": {\"X\": \"B\", \"Y\": \"C\", \"Z\": \"A\"},\n",
    "}\n",
    "totalScore = 0\n",
    "with open(\"02.input\", \"r\") as f:\n",
    "    for line in f:\n",
    "        opponent, expected = line.split()\n",
    "        choice = choicesMap[opponent][expected]\n",
    "        totalScore += scoreOfChoices[choice] + scoreOfOutcomes[expected]\n",
    "print(totalScore)\n"
   ]
  }
 ],
 "metadata": {
  "kernelspec": {
   "display_name": "Python 3",
   "language": "python",
   "name": "python3"
  },
  "language_info": {
   "codemirror_mode": {
    "name": "ipython",
    "version": 3
   },
   "file_extension": ".py",
   "mimetype": "text/x-python",
   "name": "python",
   "nbconvert_exporter": "python",
   "pygments_lexer": "ipython3",
   "version": "3.9.7 (default, Sep 16 2021, 08:50:36) \n[Clang 10.0.0 ]"
  },
  "orig_nbformat": 4,
  "vscode": {
   "interpreter": {
    "hash": "3979039c0953ef28e015c3ced4776cde123c2af84f71101b6fdde7dc0b176a4b"
   }
  }
 },
 "nbformat": 4,
 "nbformat_minor": 2
}
