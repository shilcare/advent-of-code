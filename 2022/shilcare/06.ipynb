{
 "cells": [
  {
   "cell_type": "code",
   "execution_count": 7,
   "metadata": {},
   "outputs": [
    {
     "name": "stdout",
     "output_type": "stream",
     "text": [
      "1760\n"
     ]
    }
   ],
   "source": [
    "from collections import Counter\n",
    "\n",
    "\"\"\"\n",
    "bvwbjplbgvbhsrlpgdmjqwftvncz 5\n",
    "nppdvjthqldpwncqszvftbrmjlhg 6\n",
    "nznrnfrfntjfmvfwmzdfjlvtqnbhcprsg 10\n",
    "zcfzfwzzqfrljwzlrfnpqdbhtmscgvjw 11\n",
    "\"\"\"\n",
    "with open(\"06.input\", \"r\") as f:\n",
    "    data = f.read().rstrip()\n",
    "counter = Counter()\n",
    "numDistinctChars = 4\n",
    "n = len(data)\n",
    "for i in range(n):\n",
    "    counter[data[i]] += 1\n",
    "    if i >= numDistinctChars - 1:\n",
    "        if len(counter) == numDistinctChars:\n",
    "            print(i + 1)\n",
    "            break\n",
    "        else:\n",
    "            charToRemove = data[i - numDistinctChars + 1]\n",
    "            counter[charToRemove] -= 1\n",
    "            if counter[charToRemove] == 0:\n",
    "                del counter[charToRemove]\n"
   ]
  },
  {
   "cell_type": "code",
   "execution_count": 10,
   "metadata": {},
   "outputs": [
    {
     "name": "stdout",
     "output_type": "stream",
     "text": [
      "2974\n"
     ]
    }
   ],
   "source": [
    "from collections import Counter\n",
    "\n",
    "\"\"\"\n",
    "mjqjpqmgbljsphdztnvjfqwrcgsmlb 19\n",
    "bvwbjplbgvbhsrlpgdmjqwftvncz 23\n",
    "nppdvjthqldpwncqszvftbrmjlhg 23\n",
    "nznrnfrfntjfmvfwmzdfjlvtqnbhcprsg 29\n",
    "zcfzfwzzqfrljwzlrfnpqdbhtmscgvjw 26\n",
    "\"\"\"\n",
    "with open(\"06.input\", \"r\") as f:\n",
    "    data = f.read().rstrip()\n",
    "counter = Counter()\n",
    "numDistinctChars = 14\n",
    "n = len(data)\n",
    "for i in range(n):\n",
    "    counter[data[i]] += 1\n",
    "    if i >= numDistinctChars - 1:\n",
    "        if len(counter) == numDistinctChars:\n",
    "            print(i + 1)\n",
    "            break\n",
    "        else:\n",
    "            charToRemove = data[i - numDistinctChars + 1]\n",
    "            counter[charToRemove] -= 1\n",
    "            if counter[charToRemove] == 0:\n",
    "                del counter[charToRemove]\n"
   ]
  }
 ],
 "metadata": {
  "kernelspec": {
   "display_name": "Python 3",
   "language": "python",
   "name": "python3"
  },
  "language_info": {
   "codemirror_mode": {
    "name": "ipython",
    "version": 3
   },
   "file_extension": ".py",
   "mimetype": "text/x-python",
   "name": "python",
   "nbconvert_exporter": "python",
   "pygments_lexer": "ipython3",
   "version": "3.9.7 (default, Sep 16 2021, 08:50:36) \n[Clang 10.0.0 ]"
  },
  "orig_nbformat": 4,
  "vscode": {
   "interpreter": {
    "hash": "3979039c0953ef28e015c3ced4776cde123c2af84f71101b6fdde7dc0b176a4b"
   }
  }
 },
 "nbformat": 4,
 "nbformat_minor": 2
}
