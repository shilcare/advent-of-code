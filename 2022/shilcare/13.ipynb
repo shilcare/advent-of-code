{
 "cells": [
  {
   "cell_type": "code",
   "execution_count": 28,
   "metadata": {},
   "outputs": [
    {
     "name": "stdout",
     "output_type": "stream",
     "text": [
      "5393\n",
      "[1, 2, 4, 5, 8, 10, 12, 13, 14, 17, 18, 21, 24, 25, 28, 29, 31, 32, 34, 35, 36, 37, 39, 40, 44, 47, 52, 53, 54, 56, 57, 58, 60, 62, 63, 64, 65, 67, 69, 70, 71, 72, 76, 77, 78, 81, 84, 87, 90, 91, 92, 94, 95, 99, 100, 103, 106, 108, 111, 112, 113, 115, 116, 121, 123, 124, 127, 130, 136, 138, 139, 142, 143, 146, 148, 149]\n"
     ]
    }
   ],
   "source": [
    "import typing\n",
    "\n",
    "\n",
    "def parsePackage(package):\n",
    "    stack = []\n",
    "    n = len(package)\n",
    "    i = 0\n",
    "    while i < n:\n",
    "        if package[i] == \"[\":\n",
    "            stack.append(list())\n",
    "        elif package[i] == \"]\":\n",
    "            subList = stack.pop()\n",
    "            if stack:\n",
    "                stack[-1].append(subList)\n",
    "            else:  # last ']' in the package\n",
    "                stack.append(subList)\n",
    "        elif package[i].isdigit():\n",
    "            num = 0\n",
    "            while i < n and package[i].isdigit():\n",
    "                num = num * 10 + int(package[i])\n",
    "                i += 1\n",
    "            i -= 1\n",
    "            if stack:\n",
    "                stack[-1].append(num)\n",
    "            else:\n",
    "                raise Exception(\"Invalid package\")\n",
    "        i += 1\n",
    "    return stack[0]\n",
    "\n",
    "\n",
    "def compareList(leftValue, rightValue) -> int:\n",
    "    leftIsList = isinstance(leftValue, typing.List)\n",
    "    rightIsList = isinstance(rightValue, typing.List)\n",
    "    if not leftIsList and not rightIsList:  # both are integers\n",
    "        return (leftValue > rightValue) - (\n",
    "            leftValue < rightValue\n",
    "        )  # python2 cmp equivalent\n",
    "    # make a list with the integer\n",
    "    leftList = leftValue if leftIsList else [leftValue]\n",
    "    rightList = rightValue if rightIsList else [rightValue]\n",
    "    n, m = len(leftList), len(rightList)\n",
    "    i = j = 0\n",
    "    while i < n and j < m:\n",
    "        compareResult = compareList(leftList[i], rightList[j])\n",
    "        if compareResult != 0:\n",
    "            return compareResult\n",
    "        # when equal, continue checking the next part\n",
    "        i += 1\n",
    "        j += 1\n",
    "    if i < n:  # leftList has more elements\n",
    "        return 1\n",
    "    if j < m:  # rightList has more elements\n",
    "        return -1\n",
    "    return 0\n",
    "\n",
    "\n",
    "def comparePackage(leftPackge, rightPackage):\n",
    "    parsedLeft = parsePackage(leftPackge)\n",
    "    parsedRight = parsePackage(rightPackage)\n",
    "    return compareList(parsedLeft, parsedRight) <= 0\n",
    "\n",
    "\n",
    "assert compareList([1, 1, 3, 1, 1], [1, 1, 5, 1, 1]) <= 0\n",
    "assert compareList([[1], [2, 3, 4]], [[1], 4]) <= 0\n",
    "assert compareList([9], [[8, 7, 6]]) > 0\n",
    "assert compareList([[4, 4], 4, 4], [[4, 4], 4, 4, 4]) <= 0\n",
    "assert compareList([7, 7, 7, 7], [7, 7, 7]) > 0\n",
    "assert compareList([], [3]) <= 0\n",
    "assert compareList([[[]]], [[]]) > 0\n",
    "assert (\n",
    "    compareList(\n",
    "        [1, [2, [3, [4, [5, 6, 7]]]], 8, 9], [1, [2, [3, [4, [5, 6, 0]]]], 8, 9]\n",
    "    )\n",
    "    > 0\n",
    ")\n",
    "\n",
    "with open(\"13.input\", \"r\") as f:\n",
    "    leftPacket = rightPacket = None\n",
    "    pairCount = 0\n",
    "    inorderPairIndice = []\n",
    "    for line in f:\n",
    "        line = line.strip()\n",
    "        if not line:\n",
    "            leftPacket = rightPacket = None\n",
    "            continue\n",
    "        if leftPacket is None:\n",
    "            leftPacket = line\n",
    "        else:\n",
    "            rightPacket = line\n",
    "            pairCount += 1\n",
    "            if comparePackage(leftPacket, rightPacket):\n",
    "                inorderPairIndice.append(pairCount)\n",
    "    print(sum(inorderPairIndice), inorderPairIndice, sep=\"\\n\")\n"
   ]
  },
  {
   "cell_type": "code",
   "execution_count": 29,
   "metadata": {},
   "outputs": [
    {
     "name": "stdout",
     "output_type": "stream",
     "text": [
      "[126, 212]\n",
      "26712\n"
     ]
    }
   ],
   "source": [
    "from functools import cmp_to_key\n",
    "\n",
    "with open(\"13.input\", \"r\") as f:\n",
    "    packages = [[[2]], [[6]]]\n",
    "    for line in f:\n",
    "        line = line.strip()\n",
    "        if line:\n",
    "            packages.append(parsePackage(line))\n",
    "    packages.sort(key=cmp_to_key(compareList))\n",
    "    dividerPackageIndices = []\n",
    "    for i, package in enumerate(packages):\n",
    "        if compareList(package, [[6]]) == 0 or compareList(package, [[2]]) == 0:\n",
    "            dividerPackageIndices.append(i + 1)\n",
    "    print(\n",
    "        dividerPackageIndices,\n",
    "        dividerPackageIndices[0] * dividerPackageIndices[1],\n",
    "        sep=\"\\n\",\n",
    "    )\n"
   ]
  }
 ],
 "metadata": {
  "kernelspec": {
   "display_name": "base",
   "language": "python",
   "name": "python3"
  },
  "language_info": {
   "codemirror_mode": {
    "name": "ipython",
    "version": 3
   },
   "file_extension": ".py",
   "mimetype": "text/x-python",
   "name": "python",
   "nbconvert_exporter": "python",
   "pygments_lexer": "ipython3",
   "version": "3.9.7"
  },
  "orig_nbformat": 4,
  "vscode": {
   "interpreter": {
    "hash": "3979039c0953ef28e015c3ced4776cde123c2af84f71101b6fdde7dc0b176a4b"
   }
  }
 },
 "nbformat": 4,
 "nbformat_minor": 2
}
