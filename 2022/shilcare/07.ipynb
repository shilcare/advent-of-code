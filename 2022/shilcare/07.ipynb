{
 "cells": [
  {
   "cell_type": "code",
   "execution_count": 13,
   "metadata": {},
   "outputs": [
    {
     "name": "stdout",
     "output_type": "stream",
     "text": [
      "1513699\n",
      "Smallest directory to delete is /pntzm/mbtsvblj/csqcnmtc/mbtsvblj with size 7991939\n"
     ]
    }
   ],
   "source": [
    "from os import path\n",
    "\n",
    "\"\"\"\n",
    "Pitfalls:\n",
    "1. directory name can be the same but in different path, so use abs path as key\n",
    "2. should caclulate size from bottom to top\n",
    "\"\"\"\n",
    "\n",
    "\n",
    "def printFileSys(directories, curDir=\"/\", indent=0):\n",
    "    print(\" \" * indent, path.basename(curDir) + \"/\", directories[curDir][\"size\"])\n",
    "    for child in directories[curDir][\"children\"]:\n",
    "        printFileSys(directories, child, indent + 2)\n",
    "\n",
    "\n",
    "def dfs(directories, curDir=\"/\"):\n",
    "    for child in directories[curDir][\"children\"]:\n",
    "        directories[curDir][\"size\"] += dfs(directories, child)\n",
    "    return directories[curDir][\"size\"]\n",
    "\n",
    "\n",
    "totalDiskSpace = 70000000\n",
    "targetAvailableDiskSpace = 30000000\n",
    "maxSize = 100000\n",
    "with open(\"07.input\", \"r\") as f:\n",
    "    directories = {\"/\": {\"size\": 0, \"children\": [], \"parent\": \"/\"}}\n",
    "    curDir = \"/\"\n",
    "    lastCmd = None\n",
    "    for line in f:\n",
    "        line = line.strip()\n",
    "        if line[0] == \"$\":\n",
    "            cmd, *args = line[1:].split()\n",
    "            if cmd == \"cd\":\n",
    "                if args[0] == \"..\":\n",
    "                    curDir = directories[curDir][\"parent\"]\n",
    "                elif args[0] == \".\":\n",
    "                    pass\n",
    "                else:\n",
    "                    curDir = path.join(curDir, args[0])\n",
    "            lastCmd = cmd\n",
    "        elif lastCmd == \"ls\":\n",
    "            tokens = line.split()\n",
    "            if tokens[0] == \"dir\":\n",
    "                dirPath = path.join(curDir, tokens[1])\n",
    "                if tokens[1] not in directories:\n",
    "                    directories[dirPath] = {\"size\": 0, \"children\": [], \"parent\": curDir}\n",
    "                directories[curDir][\"children\"].append(dirPath)\n",
    "            else:\n",
    "                fileSize = int(tokens[0])\n",
    "                directories[curDir][\"size\"] += fileSize\n",
    "        else:\n",
    "            raise Exception(\"Unknown command\")\n",
    "\n",
    "    # printFileSys(directories)\n",
    "    # DFS to calculate total size\n",
    "    dfs(directories)\n",
    "    print(\n",
    "        sum(\n",
    "            directories[d][\"size\"]\n",
    "            for d in directories.keys()\n",
    "            if directories[d][\"size\"] <= maxSize\n",
    "        )\n",
    "    )\n",
    "    availableDiskSpace = totalDiskSpace - directories[\"/\"][\"size\"]\n",
    "\n",
    "    if availableDiskSpace >= targetAvailableDiskSpace:\n",
    "        print(\"There are already enough disk space.\")\n",
    "    else:\n",
    "        minSpaceToFreeUp = targetAvailableDiskSpace - availableDiskSpace\n",
    "        smallestDir = None\n",
    "        for d in directories.keys():\n",
    "            if directories[d][\"size\"] >= minSpaceToFreeUp:\n",
    "                if (\n",
    "                    smallestDir is None\n",
    "                    or directories[d][\"size\"] < directories[smallestDir][\"size\"]\n",
    "                ):\n",
    "                    smallestDir = d\n",
    "        print(\n",
    "            \"Smallest directory to delete is\",\n",
    "            smallestDir,\n",
    "            \"with size\",\n",
    "            directories[smallestDir][\"size\"],\n",
    "        )\n"
   ]
  }
 ],
 "metadata": {
  "kernelspec": {
   "display_name": "Python 3",
   "language": "python",
   "name": "python3"
  },
  "language_info": {
   "codemirror_mode": {
    "name": "ipython",
    "version": 3
   },
   "file_extension": ".py",
   "mimetype": "text/x-python",
   "name": "python",
   "nbconvert_exporter": "python",
   "pygments_lexer": "ipython3",
   "version": "3.9.7 (default, Sep 16 2021, 08:50:36) \n[Clang 10.0.0 ]"
  },
  "orig_nbformat": 4,
  "vscode": {
   "interpreter": {
    "hash": "3979039c0953ef28e015c3ced4776cde123c2af84f71101b6fdde7dc0b176a4b"
   }
  }
 },
 "nbformat": 4,
 "nbformat_minor": 2
}
