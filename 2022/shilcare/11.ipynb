{
 "cells": [
  {
   "cell_type": "code",
   "execution_count": 65,
   "metadata": {},
   "outputs": [],
   "source": [
    "import re\n",
    "\n",
    "\n",
    "def parseMonkeys(filename=\"11.input\"):\n",
    "    monkeys = {}\n",
    "    with open(filename, \"r\") as f:\n",
    "        data = f.readlines()\n",
    "        for i in range(0, len(data), 7):\n",
    "            m = re.match(r\"Monkey (?P<monkeyIndex>\\d+):\", data[i].strip())\n",
    "            monkeyIndex = int(m.group(\"monkeyIndex\"))\n",
    "            m = re.match(r\"Starting items: (?P<items>.*)\", data[i + 1].strip())\n",
    "            items = m.group(\"items\").split(\", \")\n",
    "            items = [int(item) for item in items]\n",
    "            m = re.match(r\"Operation: new = (.*)\", data[i + 2].strip())\n",
    "            operation = m.group(1)\n",
    "            m = re.match(r\"Test: divisible by (?P<divisor>\\d+)\", data[i + 3].strip())\n",
    "            divisor = int(m.group(\"divisor\"))\n",
    "            m = re.match(\n",
    "                r\"If true: throw to monkey (?P<monkeyA>\\d+)\", data[i + 4].strip()\n",
    "            )\n",
    "            monkeyA = int(m.group(\"monkeyA\"))\n",
    "            m = re.match(\n",
    "                r\"If false: throw to monkey (?P<monkeyB>\\d+)\", data[i + 5].strip()\n",
    "            )\n",
    "            monkeyB = int(m.group(\"monkeyB\"))\n",
    "            monkeys[monkeyIndex] = {\n",
    "                \"items\": items,\n",
    "                \"operation\": operation,\n",
    "                \"divisor\": divisor,\n",
    "                \"monkeyA\": monkeyA,\n",
    "                \"monkeyB\": monkeyB,\n",
    "            }\n",
    "    return monkeys\n"
   ]
  },
  {
   "cell_type": "code",
   "execution_count": 67,
   "metadata": {},
   "outputs": [
    {
     "name": "stdout",
     "output_type": "stream",
     "text": [
      "Counter({5: 340, 3: 333, 4: 328, 1: 323, 2: 308, 6: 43, 7: 34, 0: 9})\n",
      "113220\n"
     ]
    }
   ],
   "source": [
    "from collections import Counter\n",
    "from functools import reduce\n",
    "\n",
    "rounds = 20\n",
    "monkeyInspectionCounts = Counter()\n",
    "\n",
    "monkeys = parseMonkeys()\n",
    "for _ in range(rounds):\n",
    "    for i in monkeys:\n",
    "        operation = lambda old: eval(monkeys[i][\"operation\"])\n",
    "        items = [*monkeys[i][\"items\"]]\n",
    "        monkeys[i][\"items\"] = []\n",
    "        for worryLevel in items:\n",
    "            monkeyInspectionCounts[i] += 1\n",
    "            worryLevel = operation(worryLevel) // 3\n",
    "            if worryLevel % monkeys[i][\"divisor\"] == 0:\n",
    "                monkeys[monkeys[i][\"monkeyA\"]][\"items\"].append(worryLevel)\n",
    "            else:\n",
    "                monkeys[monkeys[i][\"monkeyB\"]][\"items\"].append(worryLevel)\n",
    "\n",
    "print(monkeyInspectionCounts)\n",
    "print(reduce(lambda x, t: x * t[1], monkeyInspectionCounts.most_common(2), 1))\n"
   ]
  },
  {
   "cell_type": "code",
   "execution_count": 69,
   "metadata": {},
   "outputs": [
    {
     "name": "stdout",
     "output_type": "stream",
     "text": [
      "Counter({3: 175703, 2: 174155, 1: 172759, 5: 171471, 4: 169190, 0: 20133, 7: 11362, 6: 3022})\n",
      "30599555965\n"
     ]
    }
   ],
   "source": [
    "rounds = 10000\n",
    "monkeyInspectionCounts = Counter()\n",
    "\n",
    "monkeys = parseMonkeys()\n",
    "# all divisors are prime\n",
    "divisorProduct = reduce(lambda x, m: x * m[\"divisor\"], monkeys.values(), 1)\n",
    "\n",
    "for _ in range(rounds):\n",
    "    for i in monkeys:\n",
    "        operation = lambda old: eval(monkeys[i][\"operation\"])\n",
    "        items = [*monkeys[i][\"items\"]]\n",
    "        monkeys[i][\"items\"] = []\n",
    "        for worryLevel in items:\n",
    "            monkeyInspectionCounts[i] += 1\n",
    "            # for all divisors, (worryLevel mod divisorProduct) is congruent to worryLevel modulo divisor\n",
    "            # (worryLevel % divisorProduct) % divisor equals to worryLevel % divisor, so we can throw\n",
    "            # (worryLevel % divisorProduct) to the next monkey\n",
    "            worryLevel = operation(worryLevel) % divisorProduct\n",
    "            if worryLevel % monkeys[i][\"divisor\"] == 0:\n",
    "                monkeys[monkeys[i][\"monkeyA\"]][\"items\"].append(worryLevel)\n",
    "            else:\n",
    "                monkeys[monkeys[i][\"monkeyB\"]][\"items\"].append(worryLevel)\n",
    "\n",
    "print(monkeyInspectionCounts)\n",
    "print(reduce(lambda x, t: x * t[1], monkeyInspectionCounts.most_common(2), 1))\n"
   ]
  }
 ],
 "metadata": {
  "kernelspec": {
   "display_name": "base",
   "language": "python",
   "name": "python3"
  },
  "language_info": {
   "codemirror_mode": {
    "name": "ipython",
    "version": 3
   },
   "file_extension": ".py",
   "mimetype": "text/x-python",
   "name": "python",
   "nbconvert_exporter": "python",
   "pygments_lexer": "ipython3",
   "version": "3.9.7"
  },
  "orig_nbformat": 4,
  "vscode": {
   "interpreter": {
    "hash": "3979039c0953ef28e015c3ced4776cde123c2af84f71101b6fdde7dc0b176a4b"
   }
  }
 },
 "nbformat": 4,
 "nbformat_minor": 2
}
