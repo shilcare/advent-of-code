{
 "cells": [
  {
   "cell_type": "code",
   "execution_count": 4,
   "metadata": {},
   "outputs": [
    {
     "name": "stdout",
     "output_type": "stream",
     "text": [
      "1662\n"
     ]
    }
   ],
   "source": [
    "with open(\"08.input\") as f:\n",
    "    grid = [line.strip() for line in f]\n",
    "    n, m = len(grid), len(grid[0])\n",
    "    visibility = [[False] * m for _ in range(n)]\n",
    "    for i in range(m):\n",
    "        visibility[0][i] = visibility[-1][i] = True\n",
    "    for i in range(1, n - 1):\n",
    "        visibility[i][0] = visibility[i][-1] = True\n",
    "\n",
    "    # top view\n",
    "    highestSeen = [grid[0][i] for i in range(m)]\n",
    "    for i in range(1, n - 1):\n",
    "        for j in range(1, m - 1):\n",
    "            if grid[i][j] > highestSeen[j]:\n",
    "                highestSeen[j] = grid[i][j]\n",
    "                visibility[i][j] = True\n",
    "    # bottom view\n",
    "    highestSeen = [grid[-1][i] for i in range(m)]\n",
    "    for i in range(n - 2, 0, -1):\n",
    "        for j in range(1, m - 1):\n",
    "            if grid[i][j] > highestSeen[j]:\n",
    "                highestSeen[j] = grid[i][j]\n",
    "                visibility[i][j] = True\n",
    "    # left view\n",
    "    highestSeen = [grid[i][0] for i in range(n)]\n",
    "    for i in range(1, m - 1):\n",
    "        for j in range(1, n - 1):\n",
    "            if grid[j][i] > highestSeen[j]:\n",
    "                highestSeen[j] = grid[j][i]\n",
    "                visibility[j][i] = True\n",
    "    # right view\n",
    "    highestSeen = [grid[i][-1] for i in range(n)]\n",
    "    for i in range(m - 2, 0, -1):\n",
    "        for j in range(1, n - 1):\n",
    "            if grid[j][i] > highestSeen[j]:\n",
    "                highestSeen[j] = grid[j][i]\n",
    "                visibility[j][i] = True\n",
    "\n",
    "    visibleTrees = 0\n",
    "    for i in range(n):\n",
    "        for j in range(m):\n",
    "            if visibility[i][j]:\n",
    "                visibleTrees += 1\n",
    "    print(visibleTrees)\n"
   ]
  },
  {
   "cell_type": "code",
   "execution_count": 12,
   "metadata": {},
   "outputs": [
    {
     "name": "stdout",
     "output_type": "stream",
     "text": [
      "537600\n"
     ]
    }
   ],
   "source": [
    "from pprint import PrettyPrinter\n",
    "\n",
    "pp = PrettyPrinter(indent=2)\n",
    "\n",
    "with open(\"08.input\") as f:\n",
    "    grid = [line.strip() for line in f]\n",
    "    # grid = [\"30373\", \"25512\", \"65332\" ,\"33549\", \"35390\"]\n",
    "    n, m = len(grid), len(grid[0])\n",
    "    scenicScore = [\n",
    "        [1] * m for _ in range(n)\n",
    "    ]  # scenic score of trees on edges should be 0, but we don't care\n",
    "\n",
    "    for i in range(1, n - 1):\n",
    "        viewLeft = [0]\n",
    "        viewRight = [0]\n",
    "        for j in range(1, m - 1):\n",
    "            # find the first tree with height >= current tree when looking left\n",
    "            while viewLeft and grid[i][j] > grid[i][viewLeft[-1]]:\n",
    "                viewLeft.pop()\n",
    "            scenicScore[i][j] *= j - (\n",
    "                viewLeft[-1] if viewLeft else 0\n",
    "            )  # update with left view distance\n",
    "            viewLeft.append(j)\n",
    "            while viewRight and grid[i][j] >= grid[i][viewRight[-1]]:\n",
    "                k = viewRight.pop()\n",
    "                scenicScore[i][k] *= j - k  # update with right view distance\n",
    "            viewRight.append(j)\n",
    "        # view are not blocked when looking rignt from remaining trees in the stack\n",
    "        while viewRight:\n",
    "            k = viewRight.pop()\n",
    "            scenicScore[i][k] *= m - 1 - k\n",
    "\n",
    "    for j in range(1, m - 1):\n",
    "        viewUp = [0]\n",
    "        viewDown = [0]\n",
    "        for i in range(1, n - 1):\n",
    "            # find the first tree with height >= current tree when looking up\n",
    "            while viewUp and grid[i][j] > grid[viewUp[-1]][j]:\n",
    "                viewUp.pop()\n",
    "            scenicScore[i][j] *= i - (viewUp[-1] if viewUp else 0)\n",
    "            viewUp.append(i)\n",
    "            while viewDown and grid[i][j] >= grid[viewDown[-1]][j]:\n",
    "                k = viewDown.pop()\n",
    "                scenicScore[k][j] *= i - k\n",
    "            viewDown.append(i)\n",
    "        # view are not blocked when looking down from remaining trees in the stack\n",
    "        while viewDown:\n",
    "            k = viewDown.pop()\n",
    "            scenicScore[k][j] *= n - 1 - k\n",
    "\n",
    "    highestScenicScore = max(max(scenicScore[i]) for i in range(1, n - 1))\n",
    "    # pp.pprint(scenicScore)\n",
    "    print(highestScenicScore)\n"
   ]
  }
 ],
 "metadata": {
  "kernelspec": {
   "display_name": "Python 3",
   "language": "python",
   "name": "python3"
  },
  "language_info": {
   "codemirror_mode": {
    "name": "ipython",
    "version": 3
   },
   "file_extension": ".py",
   "mimetype": "text/x-python",
   "name": "python",
   "nbconvert_exporter": "python",
   "pygments_lexer": "ipython3",
   "version": "3.9.7"
  },
  "orig_nbformat": 4,
  "vscode": {
   "interpreter": {
    "hash": "3979039c0953ef28e015c3ced4776cde123c2af84f71101b6fdde7dc0b176a4b"
   }
  }
 },
 "nbformat": 4,
 "nbformat_minor": 2
}
